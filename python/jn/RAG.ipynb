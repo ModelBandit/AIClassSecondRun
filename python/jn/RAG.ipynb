{
 "cells": [
  {
   "cell_type": "code",
   "execution_count": null,
   "id": "8dd6159e-8142-4748-8e85-4b60bf23b105",
   "metadata": {},
   "outputs": [],
   "source": [
    "from langchain_openai import ChatOpenAI\n",
    "from langchain_core.messages import HumanMessage, SystemMessage\n",
    "\n",
    "from dotenv import load_dotenv\n",
    "import os\n",
    "load_dotenv()\n",
    "key = os.getenv(\"OPENAI_API_KEY\")\n",
    "llm = ChatOpenAI(model=\"gpt-4.1-nano\", openai_api_key=key)\n"
   ]
  },
  {
   "cell_type": "code",
   "execution_count": 2,
   "id": "3ce26b1c-d917-4e9e-804d-7c8c149b63d1",
   "metadata": {},
   "outputs": [],
   "source": [
    "from langchain_core.tools import tool\n",
    "from datetime import datetime\n",
    "import pytz\n",
    "\n",
    "@tool\n",
    "def get_current_time(timezone:str,location:str)->str:\n",
    "    # (이렇게 앞쪽에 설명안써주면 에러뜸)\n",
    "    \"\"\"현재시간 반환 \n",
    "\n",
    "    Args:\n",
    "        timezone(str): 타임존 (예:'asia/seoul') 실제 존재하는 타임존이어야 함.\n",
    "        location(str): 지역명. 타임존이 모든 지명에 대응되지 않기 떄문에 이후 llm 답변 생성에 사용됨\n",
    "    \"\"\"\n",
    "    tz = pytz.timezone(timezone)\n",
    "    now = datetime.now(tz).strftime(\"%Y-%m-%d %H:%M:%S\")\n",
    "    location_and_local_time = f\"{timezone} ({location}) 현재시각 {now}\"\n",
    "    print(location_and_local_time)\n",
    "    return location_and_local_time\n",
    "\n",
    "tools = [get_current_time,]\n",
    "tool_dict = {\"get_current_time\":get_current_time,}\n",
    "\n",
    "llm_with_tools = llm.bind_tools(tools)\n",
    "\n",
    "messages = [\n",
    "    SystemMessage(\"너는 사용자의 질문에 답변을 하기 위해 tools를 사용할 수 있다.\"),\n",
    "    HumanMessage(\"부산은 지금 몇시야?\")\n",
    "]"
   ]
  },
  {
   "cell_type": "code",
   "execution_count": 3,
   "id": "5cbc2e60-f03d-412d-8443-67565dceb03b",
   "metadata": {},
   "outputs": [],
   "source": [
    "response = llm_with_tools.invoke(messages)\n",
    "messages.append(response)"
   ]
  },
  {
   "cell_type": "code",
   "execution_count": 4,
   "id": "27022ceb-017f-45da-8542-097efc03df8d",
   "metadata": {},
   "outputs": [
    {
     "name": "stdout",
     "output_type": "stream",
     "text": [
      "{'name': 'get_current_time', 'args': {'timezone': 'Asia/Seoul', 'location': 'Busan'}, 'id': 'call_oBmZefmCsXbvLm3mwJgz5gFU', 'type': 'tool_call'}\n",
      "Asia/Seoul (Busan) 현재시각 2025-08-22 11:07:41\n"
     ]
    }
   ],
   "source": [
    "for tool_call in response.tool_calls:\n",
    "    selected_tool = tool_dict[tool_call[\"name\"]]\n",
    "    print(tool_call)\n",
    "    tool_msg = selected_tool.invoke(tool_call)\n",
    "    messages.append(tool_msg)"
   ]
  },
  {
   "cell_type": "code",
   "execution_count": 5,
   "id": "3f9eca71-e762-48bc-8faa-f1e2ca5de303",
   "metadata": {},
   "outputs": [
    {
     "data": {
      "text/plain": [
       "ToolMessage(content='Asia/Seoul (Busan) 현재시각 2025-08-22 11:07:41', name='get_current_time', tool_call_id='call_oBmZefmCsXbvLm3mwJgz5gFU')"
      ]
     },
     "execution_count": 5,
     "metadata": {},
     "output_type": "execute_result"
    }
   ],
   "source": [
    "tool_msg"
   ]
  },
  {
   "cell_type": "code",
   "execution_count": 6,
   "id": "283f611a-fa18-4b6c-9679-1bfaf0bd4aa8",
   "metadata": {},
   "outputs": [
    {
     "data": {
      "text/plain": [
       "[SystemMessage(content='너는 사용자의 질문에 답변을 하기 위해 tools를 사용할 수 있다.', additional_kwargs={}, response_metadata={}),\n",
       " HumanMessage(content='부산은 지금 몇시야?', additional_kwargs={}, response_metadata={}),\n",
       " AIMessage(content='', additional_kwargs={'tool_calls': [{'id': 'call_oBmZefmCsXbvLm3mwJgz5gFU', 'function': {'arguments': '{\"timezone\": \"Asia/Seoul\", \"location\": \"Busan\"}', 'name': 'get_current_time'}, 'type': 'function'}], 'refusal': None}, response_metadata={'token_usage': {'completion_tokens': 39, 'prompt_tokens': 129, 'total_tokens': 168, 'completion_tokens_details': {'accepted_prediction_tokens': 0, 'audio_tokens': 0, 'reasoning_tokens': 0, 'rejected_prediction_tokens': 0}, 'prompt_tokens_details': {'audio_tokens': 0, 'cached_tokens': 0}}, 'model_name': 'gpt-4.1-nano-2025-04-14', 'system_fingerprint': 'fp_c4c155951e', 'id': 'chatcmpl-C7BTpzIWh3Yb4IbflnOKWCXBsfIcg', 'service_tier': 'default', 'finish_reason': 'tool_calls', 'logprobs': None}, id='run--089001eb-5cff-4488-bd79-8c4645ace88e-0', tool_calls=[{'name': 'get_current_time', 'args': {'timezone': 'Asia/Seoul', 'location': 'Busan'}, 'id': 'call_oBmZefmCsXbvLm3mwJgz5gFU', 'type': 'tool_call'}], usage_metadata={'input_tokens': 129, 'output_tokens': 39, 'total_tokens': 168, 'input_token_details': {'audio': 0, 'cache_read': 0}, 'output_token_details': {'audio': 0, 'reasoning': 0}}),\n",
       " ToolMessage(content='Asia/Seoul (Busan) 현재시각 2025-08-22 11:07:41', name='get_current_time', tool_call_id='call_oBmZefmCsXbvLm3mwJgz5gFU')]"
      ]
     },
     "execution_count": 6,
     "metadata": {},
     "output_type": "execute_result"
    }
   ],
   "source": [
    "messages"
   ]
  },
  {
   "cell_type": "code",
   "execution_count": 8,
   "id": "ce03fe74-c8b9-4deb-b221-3856f8af7151",
   "metadata": {},
   "outputs": [],
   "source": [
    "finalMsg = llm_with_tools.invoke(messages)"
   ]
  },
  {
   "cell_type": "code",
   "execution_count": 9,
   "id": "f38d7ed8-2b3d-4e33-a017-afa7e36706df",
   "metadata": {},
   "outputs": [
    {
     "name": "stdout",
     "output_type": "stream",
     "text": [
      "content='현재 부산의 시간은 2025년 8월 22일 11시 07분입니다.' additional_kwargs={'refusal': None} response_metadata={'token_usage': {'completion_tokens': 24, 'prompt_tokens': 185, 'total_tokens': 209, 'completion_tokens_details': {'accepted_prediction_tokens': 0, 'audio_tokens': 0, 'reasoning_tokens': 0, 'rejected_prediction_tokens': 0}, 'prompt_tokens_details': {'audio_tokens': 0, 'cached_tokens': 0}}, 'model_name': 'gpt-4.1-nano-2025-04-14', 'system_fingerprint': 'fp_c4c155951e', 'id': 'chatcmpl-C7BU12ZpqhidMl5Z1jQVIWgopAfOG', 'service_tier': 'default', 'finish_reason': 'stop', 'logprobs': None} id='run--b5264a1d-4cad-4947-b25c-32340f55b838-0' usage_metadata={'input_tokens': 185, 'output_tokens': 24, 'total_tokens': 209, 'input_token_details': {'audio': 0, 'cache_read': 0}, 'output_token_details': {'audio': 0, 'reasoning': 0}}\n"
     ]
    }
   ],
   "source": [
    "print(finalMsg)"
   ]
  },
  {
   "cell_type": "code",
   "execution_count": null,
   "id": "45b0e5c3-6884-4058-9a7b-3099d04a3993",
   "metadata": {},
   "outputs": [],
   "source": []
  }
 ],
 "metadata": {
  "kernelspec": {
   "display_name": "Python 3 (ipykernel)",
   "language": "python",
   "name": "python3"
  },
  "language_info": {
   "codemirror_mode": {
    "name": "ipython",
    "version": 3
   },
   "file_extension": ".py",
   "mimetype": "text/x-python",
   "name": "python",
   "nbconvert_exporter": "python",
   "pygments_lexer": "ipython3",
   "version": "3.12.7"
  }
 },
 "nbformat": 4,
 "nbformat_minor": 5
}
